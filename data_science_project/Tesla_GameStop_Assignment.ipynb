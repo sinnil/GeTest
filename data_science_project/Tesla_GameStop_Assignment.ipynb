{
 "cells": [
  {
   "cell_type": "markdown",
   "id": "ef2cef6a",
   "metadata": {},
   "source": [
    "# Final Project - Tesla and GameStop Stock and Revenue Analysis"
   ]
  },
  {
   "cell_type": "markdown",
   "id": "538753bd",
   "metadata": {},
   "source": [
    "\n",
    "In this project, we will:\n",
    "1. Extract Tesla and GameStop stock data using `yfinance`\n",
    "2. Extract their revenue data using web scraping from MacroTrends\n",
    "3. Create dashboards to visualize the relationship between stock price and revenue\n"
   ]
  },
  {
   "cell_type": "markdown",
   "id": "07cf6326",
   "metadata": {},
   "source": [
    "## Extracting Tesla Stock Data Using yfinance"
   ]
  },
  {
   "cell_type": "code",
   "execution_count": null,
   "id": "561f018d",
   "metadata": {},
   "outputs": [],
   "source": [
    "\n",
    "import yfinance as yf\n",
    "import pandas as pd\n",
    "\n",
    "# Download Tesla stock data\n",
    "tesla_data = yf.download('TSLA', start='2010-01-01', end='2025-10-01')\n",
    "\n",
    "# Display basic info\n",
    "tesla_data.head()\n"
   ]
  },
  {
   "cell_type": "markdown",
   "id": "d46a1c50",
   "metadata": {},
   "source": [
    "## Extracting Tesla Revenue Data Using Web Scraping"
   ]
  },
  {
   "cell_type": "code",
   "execution_count": null,
   "id": "ea7fa691",
   "metadata": {},
   "outputs": [],
   "source": [
    "\n",
    "import requests\n",
    "from bs4 import BeautifulSoup\n",
    "\n",
    "url = \"https://www.macrotrends.net/stocks/charts/TSLA/tesla/revenue\"\n",
    "html_data = requests.get(url).text\n",
    "soup = BeautifulSoup(html_data, \"html.parser\")\n",
    "\n",
    "tables = soup.find_all(\"table\")\n",
    "for table in tables:\n",
    "    if \"Tesla Annual Revenue\" in str(table):\n",
    "        tesla_revenue = pd.read_html(str(table))[0]\n",
    "        break\n",
    "\n",
    "# Clean data\n",
    "tesla_revenue.columns = ['Date', 'Revenue']\n",
    "tesla_revenue['Revenue'] = tesla_revenue['Revenue'].replace('[\\$,]', '', regex=True)\n",
    "tesla_revenue = tesla_revenue.dropna()\n",
    "tesla_revenue.head()\n"
   ]
  },
  {
   "cell_type": "markdown",
   "id": "d8ceb03f",
   "metadata": {},
   "source": [
    "## Extracting GameStop Stock Data Using yfinance"
   ]
  },
  {
   "cell_type": "code",
   "execution_count": null,
   "id": "038c115c",
   "metadata": {},
   "outputs": [],
   "source": [
    "\n",
    "gme_data = yf.download('GME', start='2010-01-01', end='2025-10-01')\n",
    "gme_data.head()\n"
   ]
  },
  {
   "cell_type": "markdown",
   "id": "b07d37ab",
   "metadata": {},
   "source": [
    "## Extracting GameStop Revenue Data Using Web Scraping"
   ]
  },
  {
   "cell_type": "code",
   "execution_count": null,
   "id": "6bcb4fa9",
   "metadata": {},
   "outputs": [],
   "source": [
    "\n",
    "url = \"https://www.macrotrends.net/stocks/charts/GME/gamestop/revenue\"\n",
    "html_data = requests.get(url).text\n",
    "soup = BeautifulSoup(html_data, \"html.parser\")\n",
    "\n",
    "tables = soup.find_all(\"table\")\n",
    "for table in tables:\n",
    "    if \"GameStop Annual Revenue\" in str(table):\n",
    "        gme_revenue = pd.read_html(str(table))[0]\n",
    "        break\n",
    "\n",
    "# Clean data\n",
    "gme_revenue.columns = ['Date', 'Revenue']\n",
    "gme_revenue['Revenue'] = gme_revenue['Revenue'].replace('[\\$,]', '', regex=True)\n",
    "gme_revenue = gme_revenue.dropna()\n",
    "gme_revenue.head()\n"
   ]
  },
  {
   "cell_type": "markdown",
   "id": "814d8684",
   "metadata": {},
   "source": [
    "## Tesla Stock and Revenue Dashboard"
   ]
  },
  {
   "cell_type": "code",
   "execution_count": null,
   "id": "f7987b27",
   "metadata": {},
   "outputs": [],
   "source": [
    "\n",
    "import plotly.graph_objects as go\n",
    "\n",
    "fig = go.Figure()\n",
    "fig.add_trace(go.Scatter(x=tesla_data.index, y=tesla_data['Close'], name=\"Tesla Stock Price\"))\n",
    "fig.add_trace(go.Scatter(x=tesla_revenue['Date'], y=tesla_revenue['Revenue'].astype(float), name=\"Tesla Revenue\"))\n",
    "\n",
    "fig.update_layout(title=\"Tesla Stock Price vs Revenue\",\n",
    "                  xaxis_title=\"Date\",\n",
    "                  yaxis_title=\"Value\",\n",
    "                  legend_title=\"Metrics\")\n",
    "fig.show()\n"
   ]
  },
  {
   "cell_type": "markdown",
   "id": "ef97d105",
   "metadata": {},
   "source": [
    "## GameStop Stock and Revenue Dashboard"
   ]
  },
  {
   "cell_type": "code",
   "execution_count": null,
   "id": "06df92ae",
   "metadata": {},
   "outputs": [],
   "source": [
    "\n",
    "fig = go.Figure()\n",
    "fig.add_trace(go.Scatter(x=gme_data.index, y=gme_data['Close'], name=\"GME Stock Price\"))\n",
    "fig.add_trace(go.Scatter(x=gme_revenue['Date'], y=gme_revenue['Revenue'].astype(float), name=\"GME Revenue\"))\n",
    "\n",
    "fig.update_layout(title=\"GameStop Stock Price vs Revenue\",\n",
    "                  xaxis_title=\"Date\",\n",
    "                  yaxis_title=\"Value\",\n",
    "                  legend_title=\"Metrics\")\n",
    "fig.show()\n"
   ]
  }
 ],
 "metadata": {
  "language_info": {
   "name": "python"
  }
 },
 "nbformat": 4,
 "nbformat_minor": 5
}
