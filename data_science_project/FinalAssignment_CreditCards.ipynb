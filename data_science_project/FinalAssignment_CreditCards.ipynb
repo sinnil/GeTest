{
 "cells": [
  {
   "cell_type": "markdown",
   "id": "d18890d5",
   "metadata": {},
   "source": [
    "# Final Assignment — Data Science Methodology (CRISP-DM)\n",
    "### Topic: **Credit Cards — Fraud Detection**\n",
    "**Business Goal:** To detect fraudulent transactions using historical credit card data.\n",
    "\n",
    "**Dataset File Name:** `credit_card_fraud.csv`\n",
    "\n",
    "---\n",
    "### Overview\n",
    "In this notebook, we will demonstrate the CRISP-DM (Cross Industry Standard Process for Data Mining) methodology to address the defined business problem.\n"
   ]
  },
  {
   "cell_type": "markdown",
   "id": "3d0135dd",
   "metadata": {},
   "source": [
    "## 1. Business Understanding\n",
    "As a client, the business problem is defined as follows:\n",
    "\n",
    "- For the **Credit Cards — Fraud Detection** domain, our goal is: To detect fraudulent transactions using historical credit card data.\n",
    "\n",
    "As a data scientist, our objective is to use data-driven methods to solve this business challenge.\n"
   ]
  },
  {
   "cell_type": "markdown",
   "id": "c7cdb90b",
   "metadata": {},
   "source": [
    "## 2. Data Understanding\n",
    "In this stage, we explore the available data to understand its structure and contents.\n",
    "We assume the dataset `credit_card_fraud.csv` contains relevant features.\n"
   ]
  },
  {
   "cell_type": "code",
   "execution_count": null,
   "id": "3605d9e8",
   "metadata": {},
   "outputs": [],
   "source": [
    "# Example: Load and preview dataset\n",
    "import pandas as pd\n",
    "\n",
    "df = pd.read_csv('credit_card_fraud.csv')\n",
    "df.head()"
   ]
  },
  {
   "cell_type": "markdown",
   "id": "8ace0e50",
   "metadata": {},
   "source": [
    "## 3. Data Preparation\n",
    "We clean and prepare the data for modeling — handling missing values, encoding categories, and splitting data.\n"
   ]
  },
  {
   "cell_type": "code",
   "execution_count": null,
   "id": "6248f4b6",
   "metadata": {},
   "outputs": [],
   "source": [
    "# Example: Data cleaning and splitting\n",
    "df = df.dropna()\n",
    "from sklearn.model_selection import train_test_split\n",
    "X = df.drop('target', axis=1)\n",
    "y = df['target']\n",
    "X_train, X_test, y_train, y_test = train_test_split(X, y, test_size=0.2, random_state=42)\n"
   ]
  },
  {
   "cell_type": "markdown",
   "id": "ce28ae00",
   "metadata": {},
   "source": [
    "## 4. Modeling\n",
    "We build a model to address the business problem.\n"
   ]
  },
  {
   "cell_type": "code",
   "execution_count": null,
   "id": "e463a3f6",
   "metadata": {},
   "outputs": [],
   "source": [
    "# Example: Train a simple model\n",
    "from sklearn.ensemble import RandomForestClassifier\n",
    "model = RandomForestClassifier(random_state=42)\n",
    "model.fit(X_train, y_train)\n"
   ]
  },
  {
   "cell_type": "markdown",
   "id": "9863993b",
   "metadata": {},
   "source": [
    "## 5. Evaluation\n",
    "We evaluate the model performance using accuracy and other metrics.\n"
   ]
  },
  {
   "cell_type": "code",
   "execution_count": null,
   "id": "8bd852a6",
   "metadata": {},
   "outputs": [],
   "source": [
    "# Example: Evaluate model\n",
    "from sklearn.metrics import accuracy_score, classification_report\n",
    "y_pred = model.predict(X_test)\n",
    "print('Accuracy:', accuracy_score(y_test, y_pred))\n",
    "print(classification_report(y_test, y_pred))"
   ]
  },
  {
   "cell_type": "markdown",
   "id": "0f7d37be",
   "metadata": {},
   "source": [
    "## 6. Deployment\n",
    "Finally, we outline how this model could be deployed into production — e.g., integrated with business systems or exposed via an API.\n",
    "\n",
    "### Example:\n",
    "- For Emails: integrate spam detection with an email filtering system.\n",
    "- For Hospitals: integrate patient risk prediction with hospital record systems.\n",
    "- For Credit Cards: integrate fraud detection model with real-time transaction monitoring.\n",
    "\n",
    "---\n",
    "**End of Notebook**"
   ]
  }
 ],
 "metadata": {},
 "nbformat": 4,
 "nbformat_minor": 5
}
