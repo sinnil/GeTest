{
  "nbformat": 4,
  "nbformat_minor": 0,
  "metadata": {
    "colab": {
      "provenance": [],
      "authorship_tag": "ABX9TyOMVs5VpCxIgxFO8MRrcJIX"
    },
    "kernelspec": {
      "name": "python3",
      "display_name": "Python 3"
    },
    "language_info": {
      "name": "python"
    }
  },
  "cells": [
    {
      "cell_type": "code",
      "execution_count": 1,
      "metadata": {
        "id": "vzAhL8wubTD4"
      },
      "outputs": [],
      "source": [
        "# Final Project: Data Science Tools and Ecosystem"
      ]
    },
    {
      "cell_type": "code",
      "source": [
        "## Introduction\n",
        "In this notebook, we will summarize some of the tools, languages, and libraries commonly used in data science. We will also include examples of simple arithmetic operations in Python.\n",
        "\n"
      ],
      "metadata": {
        "id": "jbmcUo-CdChq"
      },
      "execution_count": null,
      "outputs": []
    },
    {
      "cell_type": "markdown",
      "source": [
        "## Data Science Languages\n",
        "Some of the popular languages used by data scientists are:\n",
        "- Python\n",
        "- R\n",
        "- SQL\n",
        "- Julia\n"
      ],
      "metadata": {
        "id": "Oa4RokAzdhID"
      }
    },
    {
      "cell_type": "markdown",
      "source": [
        "## Data Science Libraries\n",
        "Commonly used libraries for data science include:\n",
        "- Pandas\n",
        "- NumPy\n",
        "- Matplotlib\n",
        "- Scikit-learn\n",
        "- TensorFlow\n"
      ],
      "metadata": {
        "id": "li-nZGiadmUF"
      }
    },
    {
      "cell_type": "markdown",
      "source": [
        "## Data Science Tools\n",
        "\n",
        "| Tool            | Category           |\n",
        "|-----------------|-------------------|\n",
        "| Jupyter Notebook | IDE/Environment   |\n",
        "| RStudio         | IDE/Environment   |\n",
        "| Apache Spark    | Big Data Tool     |\n",
        "| TensorFlow      | Machine Learning  |\n",
        "| Tableau         | Data Visualization |\n"
      ],
      "metadata": {
        "id": "FISQMPLMdtrt"
      }
    },
    {
      "cell_type": "markdown",
      "source": [
        "## Arithmetic Expression Examples\n",
        "Below are a few examples of evaluating arithmetic expressions in Python.\n"
      ],
      "metadata": {
        "id": "Sl5KAIKEd1Q6"
      }
    },
    {
      "cell_type": "code",
      "source": [
        "# This will multiply and add numbers\n",
        "(3*4) + 5\n"
      ],
      "metadata": {
        "colab": {
          "base_uri": "https://localhost:8080/"
        },
        "id": "leo50ID_eCWb",
        "outputId": "9d028b7c-66ec-48dd-904d-7433b19a239e"
      },
      "execution_count": 2,
      "outputs": [
        {
          "output_type": "execute_result",
          "data": {
            "text/plain": [
              "17"
            ]
          },
          "metadata": {},
          "execution_count": 2
        }
      ]
    },
    {
      "cell_type": "code",
      "source": [
        "# This will convert 200 minutes to hours\n",
        "minutes = 200\n",
        "hours = minutes / 60\n",
        "hours\n"
      ],
      "metadata": {
        "colab": {
          "base_uri": "https://localhost:8080/"
        },
        "id": "przBK9WReJRq",
        "outputId": "d62515fc-7a13-46eb-9b4d-f70208221684"
      },
      "execution_count": 3,
      "outputs": [
        {
          "output_type": "execute_result",
          "data": {
            "text/plain": [
              "3.3333333333333335"
            ]
          },
          "metadata": {},
          "execution_count": 3
        }
      ]
    },
    {
      "cell_type": "code",
      "source": [
        "## Objectives\n",
        "The objectives of this notebook are:\n",
        "- List popular languages for Data Science\n",
        "- List common libraries used by Data Scientists\n",
        "- Create a table of Data Science tools\n",
        "- Demonstrate simple arithmetic operations in Python\n",
        "- Convert units (minutes to hours) using Python code\n"
      ],
      "metadata": {
        "id": "6OHlkgGXeZAn"
      },
      "execution_count": null,
      "outputs": []
    },
    {
      "cell_type": "markdown",
      "source": [
        "## Author\n",
        "**Nilesh Singh**\n"
      ],
      "metadata": {
        "id": "azWiPbiZeiXL"
      }
    }
  ]
}